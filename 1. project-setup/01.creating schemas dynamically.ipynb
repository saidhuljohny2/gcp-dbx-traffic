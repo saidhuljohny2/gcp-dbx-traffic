{
 "cells": [
  {
   "cell_type": "code",
   "execution_count": 0,
   "metadata": {
    "application/vnd.databricks.v1+cell": {
     "cellMetadata": {
      "byteLimit": 2048000,
      "implicitDf": true,
      "rowLimit": 10000
     },
     "inputWidgets": {},
     "nuid": "9d8aff8f-e968-4ada-8541-4ef52d49a6ab",
     "showTitle": false,
     "tableResultSettingsMap": {},
     "title": ""
    }
   },
   "outputs": [],
   "source": [
    "bronze_path = spark.sql(\"\"\"DESCRIBE EXTERNAL LOCATION `bronze`\"\"\").select(\"url\").collect()[0][0]\n",
    "silver_path = spark.sql(\"\"\"DESCRIBE EXTERNAL LOCATION `silver`\"\"\").select(\"url\").collect()[0][0]\n",
    "gold_path = spark.sql(\"\"\"DESCRIBE EXTERNAL LOCATION `gold`\"\"\").select(\"url\").collect()[0][0]"
   ]
  },
  {
   "cell_type": "code",
   "execution_count": 0,
   "metadata": {
    "application/vnd.databricks.v1+cell": {
     "cellMetadata": {
      "byteLimit": 2048000,
      "rowLimit": 10000
     },
     "inputWidgets": {},
     "nuid": "48a94539-7a86-482d-9e2d-692f77f49a33",
     "showTitle": false,
     "tableResultSettingsMap": {},
     "title": ""
    }
   },
   "outputs": [],
   "source": [
    "dbutils.widgets.text(name=\"env\",defaultValue=\"\",label=\" Enter the environment in lower case\")\n",
    "env = dbutils.widgets.get(\"env\")"
   ]
  },
  {
   "cell_type": "code",
   "execution_count": 0,
   "metadata": {
    "application/vnd.databricks.v1+cell": {
     "cellMetadata": {
      "byteLimit": 2048000,
      "rowLimit": 10000
     },
     "inputWidgets": {},
     "nuid": "69cff913-aae3-4a96-b469-1cd09540571e",
     "showTitle": false,
     "tableResultSettingsMap": {},
     "title": ""
    }
   },
   "outputs": [],
   "source": [
    "def create_Bronze_Schema(environment,path):\n",
    "    print(f'Using {environment}_Catalog ')\n",
    "    spark.sql(f\"\"\" USE CATALOG '{environment}_catalog'\"\"\")\n",
    "    \n",
    "    print(f'Creating Bronze Schema in {environment}_Catalog')\n",
    "    spark.sql(f\"\"\"CREATE SCHEMA IF NOT EXISTS `bronze` MANAGED LOCATION '{path}/bronze'\"\"\")"
   ]
  },
  {
   "cell_type": "code",
   "execution_count": 0,
   "metadata": {
    "application/vnd.databricks.v1+cell": {
     "cellMetadata": {
      "byteLimit": 2048000,
      "rowLimit": 10000
     },
     "inputWidgets": {},
     "nuid": "76206af4-37f7-4430-91af-77ca39da11c9",
     "showTitle": false,
     "tableResultSettingsMap": {},
     "title": ""
    }
   },
   "outputs": [],
   "source": [
    "def create_Silver_Schema(environment,path):\n",
    "    print(f'Using {environment}_Catalog ')\n",
    "    spark.sql(f\"\"\" USE CATALOG '{environment}_catalog'\"\"\")\n",
    "    print(f'Creating Silver Schema in {environment}_Catalog')\n",
    "    spark.sql(f\"\"\"CREATE SCHEMA IF NOT EXISTS `silver` MANAGED LOCATION '{path}/silver'\"\"\")"
   ]
  },
  {
   "cell_type": "code",
   "execution_count": 0,
   "metadata": {
    "application/vnd.databricks.v1+cell": {
     "cellMetadata": {
      "byteLimit": 2048000,
      "rowLimit": 10000
     },
     "inputWidgets": {},
     "nuid": "15b9f6e9-84cf-40f9-9441-a216606653f5",
     "showTitle": false,
     "tableResultSettingsMap": {},
     "title": ""
    }
   },
   "outputs": [],
   "source": [
    "def create_Gold_Schema(environment,path):\n",
    "    print(f'Using {environment}_Catalog ')\n",
    "    spark.sql(f\"\"\" USE CATALOG '{environment}_catalog'\"\"\")\n",
    "    print(f'Creating Gold Schema in {environment}_Catalog')\n",
    "    spark.sql(f\"\"\"CREATE SCHEMA IF NOT EXISTS `gold` MANAGED LOCATION '{path}/gold'\"\"\")"
   ]
  },
  {
   "cell_type": "code",
   "execution_count": 0,
   "metadata": {
    "application/vnd.databricks.v1+cell": {
     "cellMetadata": {
      "byteLimit": 2048000,
      "rowLimit": 10000
     },
     "inputWidgets": {},
     "nuid": "96257772-1ee0-4aae-9c57-f9aa74fec29a",
     "showTitle": false,
     "tableResultSettingsMap": {},
     "title": ""
    }
   },
   "outputs": [],
   "source": [
    "create_Bronze_Schema(env,bronze_path)"
   ]
  },
  {
   "cell_type": "code",
   "execution_count": 0,
   "metadata": {
    "application/vnd.databricks.v1+cell": {
     "cellMetadata": {
      "byteLimit": 2048000,
      "rowLimit": 10000
     },
     "inputWidgets": {},
     "nuid": "69d5f122-c991-4a79-92d1-dd4ccc655e7a",
     "showTitle": false,
     "tableResultSettingsMap": {},
     "title": ""
    }
   },
   "outputs": [],
   "source": [
    "create_Silver_Schema(env,silver_path)"
   ]
  },
  {
   "cell_type": "code",
   "execution_count": 0,
   "metadata": {
    "application/vnd.databricks.v1+cell": {
     "cellMetadata": {
      "byteLimit": 2048000,
      "rowLimit": 10000
     },
     "inputWidgets": {},
     "nuid": "ed1e8c96-8cb3-4bf5-8c73-4815daae953a",
     "showTitle": false,
     "tableResultSettingsMap": {},
     "title": ""
    }
   },
   "outputs": [],
   "source": [
    "create_Gold_Schema(env,gold_path)"
   ]
  }
 ],
 "metadata": {
  "application/vnd.databricks.v1+notebook": {
   "computePreferences": null,
   "dashboards": [],
   "environmentMetadata": null,
   "inputWidgetPreferences": null,
   "language": "python",
   "notebookMetadata": {
    "mostRecentlyExecutedCommandWithImplicitDF": {
     "commandId": -1,
     "dataframes": [
      "_sqldf"
     ]
    },
    "pythonIndentUnit": 4
   },
   "notebookName": "01.creating schemas dynamically",
   "widgets": {
    "env": {
     "currentValue": "dev",
     "nuid": "0b0b8176-311d-430d-b6b4-5e94c8701629",
     "typedWidgetInfo": {
      "autoCreated": false,
      "defaultValue": "",
      "label": " Enter the environment in lower case",
      "name": "env",
      "options": {
       "widgetDisplayType": "Text",
       "validationRegex": null
      },
      "parameterDataType": "String"
     },
     "widgetInfo": {
      "widgetType": "text",
      "defaultValue": "",
      "label": " Enter the environment in lower case",
      "name": "env",
      "options": {
       "widgetType": "text",
       "autoCreated": null,
       "validationRegex": null
      }
     }
    }
   }
  },
  "language_info": {
   "name": "python"
  }
 },
 "nbformat": 4,
 "nbformat_minor": 0
}
