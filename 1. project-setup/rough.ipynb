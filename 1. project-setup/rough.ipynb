{
 "cells": [
  {
   "cell_type": "code",
   "execution_count": 0,
   "metadata": {
    "application/vnd.databricks.v1+cell": {
     "cellMetadata": {
      "byteLimit": 2048000,
      "rowLimit": 10000
     },
     "inputWidgets": {},
     "nuid": "86056fbb-5e31-4a75-bc7a-e71f5ebd7df8",
     "showTitle": true,
     "tableResultSettingsMap": {},
     "title": "BRONZE"
    }
   },
   "outputs": [],
   "source": [
    "SELECT COUNT(*) FROM dev_catalog.bronze.raw_roads;"
   ]
  },
  {
   "cell_type": "code",
   "execution_count": 0,
   "metadata": {
    "application/vnd.databricks.v1+cell": {
     "cellMetadata": {
      "byteLimit": 2048000,
      "rowLimit": 10000
     },
     "inputWidgets": {},
     "nuid": "b1566989-e99f-451c-a3d7-dc0a7cb7bcba",
     "showTitle": true,
     "tableResultSettingsMap": {},
     "title": "BRONZE"
    }
   },
   "outputs": [],
   "source": [
    "SELECT COUNT(*) FROM dev_catalog.bronze.raw_traffic"
   ]
  },
  {
   "cell_type": "code",
   "execution_count": 0,
   "metadata": {
    "application/vnd.databricks.v1+cell": {
     "cellMetadata": {
      "byteLimit": 2048000,
      "rowLimit": 10000
     },
     "inputWidgets": {},
     "nuid": "e7c535ee-8844-432a-9f0f-c26812eb74d3",
     "showTitle": true,
     "tableResultSettingsMap": {},
     "title": "SILVER"
    }
   },
   "outputs": [],
   "source": [
    "SELECT COUNT(*) FROM dev_catalog.silver.silver_roads"
   ]
  },
  {
   "cell_type": "code",
   "execution_count": 0,
   "metadata": {
    "application/vnd.databricks.v1+cell": {
     "cellMetadata": {
      "byteLimit": 2048000,
      "rowLimit": 10000
     },
     "inputWidgets": {},
     "nuid": "fede83a7-dc1f-41c6-add5-8d77a2261372",
     "showTitle": true,
     "tableResultSettingsMap": {},
     "title": "SILVER"
    }
   },
   "outputs": [],
   "source": [
    "SELECT COUNT(*) FROM dev_catalog.silver.silver_traffic"
   ]
  },
  {
   "cell_type": "code",
   "execution_count": 0,
   "metadata": {
    "application/vnd.databricks.v1+cell": {
     "cellMetadata": {
      "byteLimit": 2048000,
      "rowLimit": 10000
     },
     "inputWidgets": {},
     "nuid": "fbfcb709-a7f5-48dd-bc36-c35aa0d774c7",
     "showTitle": true,
     "tableResultSettingsMap": {},
     "title": "GOLD"
    }
   },
   "outputs": [],
   "source": [
    "SELECT COUNT(*) FROM dev_catalog.gold.gold_roads"
   ]
  },
  {
   "cell_type": "code",
   "execution_count": 0,
   "metadata": {
    "application/vnd.databricks.v1+cell": {
     "cellMetadata": {
      "byteLimit": 2048000,
      "rowLimit": 10000
     },
     "inputWidgets": {},
     "nuid": "f950949a-0432-41bd-89f5-4620586940d0",
     "showTitle": true,
     "tableResultSettingsMap": {},
     "title": "GOLD"
    }
   },
   "outputs": [],
   "source": [
    "SELECT COUNT(*) FROM dev_catalog.gold.gold_traffic"
   ]
  }
 ],
 "metadata": {
  "application/vnd.databricks.v1+notebook": {
   "computePreferences": null,
   "dashboards": [],
   "environmentMetadata": {
    "base_environment": "",
    "environment_version": "3"
   },
   "inputWidgetPreferences": null,
   "language": "sql",
   "notebookMetadata": {
    "pythonIndentUnit": 4
   },
   "notebookName": "rough",
   "widgets": {}
  },
  "language_info": {
   "name": "sql"
  }
 },
 "nbformat": 4,
 "nbformat_minor": 0
}
